{
 "cells": [
  {
   "cell_type": "code",
   "execution_count": 3,
   "metadata": {},
   "outputs": [],
   "source": [
    "import numpy as np\n",
    "import pandas as pd\n",
    "import matplotlib.pyplot as plt\n",
    "import seaborn as sns\n",
    "import os\n",
    "import json"
   ]
  },
  {
   "cell_type": "markdown",
   "metadata": {},
   "source": [
    "## Train Data"
   ]
  },
  {
   "cell_type": "code",
   "execution_count": 79,
   "metadata": {},
   "outputs": [],
   "source": [
    "with open('data\\\\raw\\\\train.json') as f:\n",
    "  gold = json.load(f)"
   ]
  },
  {
   "cell_type": "code",
   "execution_count": 80,
   "metadata": {},
   "outputs": [],
   "source": [
    "for data in gold:\n",
    "  section = gold[data][\"Section_id\"]\n",
    "  primary_id = gold[data][\"Primary_id\"]\n",
    "  with open(f'data/raw/CT/{primary_id}.json') as f:\n",
    "    primary = json.load(f)\n",
    "\n",
    "  primary_premise = ' '.join(primary[section])\n",
    "  gold[data][\"primary_premise\"] = primary_premise\n",
    "\n",
    "  if gold[data][\"Type\"] == 'Comparison':\n",
    "    secondary_id = gold[data][\"Secondary_id\"]\n",
    "    with open(f'data/raw/CT/{secondary_id}.json') as f:\n",
    "      secondary = json.load(f)\n",
    "\n",
    "    secondary_premise = ' '.join(secondary[section])\n",
    "    gold[data][\"secondary_premise\"] = secondary_premise"
   ]
  },
  {
   "cell_type": "code",
   "execution_count": 81,
   "metadata": {},
   "outputs": [],
   "source": [
    "with open('data/original/cnli/train.tsv', 'w', encoding='utf-8') as f:\n",
    "    f.write('sentence\\tlabel\\n')\n",
    "    for data in gold:\n",
    "        primary_premise = gold[data][\"primary_premise\"]\n",
    "        statement = gold[data][\"Statement\"]\n",
    "        section_id = gold[data][\"Section_id\"]\n",
    "        label = 0 if gold[data][\"Label\"]==\"Contradiction\" else 1\n",
    "        if gold[data][\"Type\"] == 'Comparison':\n",
    "            secondary_premise = gold[data][\"secondary_premise\"]\n",
    "            f.write(f'Type : {gold[data][\"Type\"]} [SEP] Section ID : {section_id} [SEP] Primary : {primary_premise} [SEP] Secondary : {secondary_premise} [SEP] Statement : {statement} \\t{label}\\n')\n",
    "            # print(f'Type : {gold[data][\"Type\"]} [SEP] Section ID : {section_id} [SEP] Primary : {primary_premise} [SEP] Secondary : {secondary_premise} [SEP] Statement : {statement} \\t{label}\\n'.count('\\t'))\n",
    "        else:\n",
    "            f.write(f'Type : {gold[data][\"Type\"]} [SEP] Section ID : {section_id} [SEP] Primary : {primary_premise} [SEP] Statement : {statement} \\t{label}\\n')\n",
    "            # print(f'Type : {gold[data][\"Type\"]} [SEP] Section ID : {section_id} [SEP] Primary : {primary_premise} [SEP] Statement : {statement} \\t{label}\\n'.count('\\t'))"
   ]
  },
  {
   "cell_type": "code",
   "execution_count": 82,
   "metadata": {},
   "outputs": [],
   "source": [
    "random_seed = 42\n",
    "\n",
    "np.random.seed(random_seed)\n",
    "\n",
    "# list of indices where the label is \"entailment\" in gold dict\n",
    "entailment_indices = [i for i, data in enumerate(gold) if gold[data][\"Label\"] == \"Entailment\"]\n",
    "\n",
    "# select 16 random indices from entailment_indices\n",
    "random_indices = np.random.choice(entailment_indices, 16, replace=False)\n",
    "\n",
    "\n",
    "examples_lst = []\n",
    "for i, data in enumerate(gold):\n",
    "    if i not in random_indices:\n",
    "        continue\n",
    "    primary_premise = gold[data][\"primary_premise\"]\n",
    "    secondary_premise = gold[data][\"secondary_premise\"] if gold[data][\"Type\"] == 'Comparison' else \"No Secondary Premise.\"\n",
    "    statement = gold[data][\"Statement\"]\n",
    "    examples_lst.append({'primary_premise': primary_premise, 'secondary_premise': secondary_premise, 'statement': statement})\n",
    "\n",
    "# create a json file from the examples_dict dictionary\n",
    "with open(f'data/original/cnli/examples-{random_seed}.json', 'w') as outfile:\n",
    "    json.dump(examples_lst, outfile)"
   ]
  },
  {
   "cell_type": "code",
   "execution_count": 96,
   "metadata": {},
   "outputs": [
    {
     "name": "stdout",
     "output_type": "stream",
     "text": [
      "Total number of words in all premises and statements: 428597\n",
      "Maximum number of words in a primary premise: 1547\n",
      "Maximum number of words in a secondary premise: 1349\n",
      "Maximum number of words in a statement: 65\n",
      "Maximum number of words in a premise and statement per type: {'Comparison': 1736, 'Single': 1575}\n",
      "Maximum number of words in a premise and statement per section: {'Intervention': 612, 'Eligibility': 1736, 'Adverse Events': 226, 'Results': 753}\n",
      "Maximum number of words in a statement per type: {'Comparison': 52, 'Single': 65}\n",
      "Maximum number of words in a statement per section: {'Intervention': 65, 'Eligibility': 52, 'Adverse Events': 48, 'Results': 45}\n"
     ]
    }
   ],
   "source": [
    "# count number of words in each premise and statement and sum up\n",
    "# also get maximum number of words in a premise and statement\n",
    "# count words per section and max words per section\n",
    "\n",
    "max_premise_per_section = {}\n",
    "max_premise_per_type = {}\n",
    "max_statement_per_section = {}\n",
    "max_statement_per_type = {}\n",
    "max_primary_premise = 0\n",
    "max_secondary_premise = 0\n",
    "max_statement = 0\n",
    "total_words = 0\n",
    "for data in gold:\n",
    "    primary_premise = gold[data][\"primary_premise\"]\n",
    "    secondary_premise = gold[data][\"secondary_premise\"] if gold[data][\"Type\"] == 'Comparison' else \"No Secondary Premise.\"\n",
    "    statement = gold[data][\"Statement\"]\n",
    "    total_words += len(primary_premise.split()) + len(secondary_premise.split()) + len(statement.split())\n",
    "    max_primary_premise = max(max_primary_premise, len(primary_premise.split()))\n",
    "    max_secondary_premise = max(max_secondary_premise, len(secondary_premise.split()))\n",
    "    max_statement = max(max_statement, len(statement.split()))\n",
    "    type_id = gold[data][\"Type\"]\n",
    "    max_premise_per_type[type_id] = max(max_premise_per_type.get(type_id, 0), len(primary_premise.split()) + len(secondary_premise.split()) + len(statement.split()))\n",
    "    max_statement_per_type[type_id] = max(max_statement_per_type.get(type_id, 0), len(statement.split()))\n",
    "    section_id = gold[data][\"Section_id\"]\n",
    "    max_premise_per_section[section_id] = max(max_premise_per_section.get(section_id, 0), len(primary_premise.split()) + len(secondary_premise.split()) + len(statement.split()))\n",
    "    max_statement_per_section[section_id] = max(max_statement_per_section.get(section_id, 0), len(statement.split()))\n",
    "\n",
    "print(f\"Total number of words in all premises and statements: {total_words}\")\n",
    "print(f\"Maximum number of words in a primary premise: {max_primary_premise}\")\n",
    "print(f\"Maximum number of words in a secondary premise: {max_secondary_premise}\")\n",
    "print(f\"Maximum number of words in a statement: {max_statement}\")\n",
    "print(f\"Maximum number of words in a premise and statement per type: {max_premise_per_type}\")\n",
    "print(f\"Maximum number of words in a premise and statement per section: {max_premise_per_section}\")\n",
    "print(f\"Maximum number of words in a statement per type: {max_statement_per_type}\")\n",
    "print(f\"Maximum number of words in a statement per section: {max_statement_per_section}\")"
   ]
  },
  {
   "cell_type": "code",
   "execution_count": 111,
   "metadata": {},
   "outputs": [
    {
     "data": {
      "text/plain": [
       "{'Type': 'Single',\n",
       " 'Section_id': 'Results',\n",
       " 'Primary_id': 'NCT01808573',\n",
       " 'Statement': 'the primary trial Patients receiving Neratinib Plus Capecitabine had a Mean (95% Confidence Interval)  Progression Free Survival more than 2 months longer than patients administered with Lapatinib Plus Capecitabine.',\n",
       " 'Label': 'Entailment',\n",
       " 'primary_premise': 'Outcome Measurement:    Centrally Assessed Progression Free Survival   Progression Free Survival (PFS), Measured in Months, for Randomized Subjects of the Central Assessment. The time interval from the date of randomization until the first date on which recurrence, progression (per Response Evaluation Criteria in Solid Tumors Criteria (RECIST) v1.1), or death due to any cause, is documented. For subjects without recurrence, progression or death, it is censored at the last valid tumor assessment. Progression is defined using Response Evaluation Criteria in Solid Tumors Criteria (RECIST v1.1), as a 20% increase in the sum of the longest diameter of target lesions, or a measurable increase in a non-target lesion, or the appearance of new lesions. Here, the time to event was reported as the restricted mean survival time. The restricted mean survival time was defined as the area under the curve of the survival function up to 24 months.   Time frame: From randomization date to recurrence, progression or death, assessed up to 38 months. The result is based on primary analysis data cut. Results 1:    Arm/Group Title: Neratinib Plus Capecitabine   Arm/Group Description: neratinib 240 mg orally, once daily with food, continuously in 21 day cycles, and capecitabine 1500 mg/m^2 daily in 2 evenly divided doses, orally with water within 30 minutes after a meal, taken on days 1 to 14 of each 21 day cycle.   Overall Number of Participants Analyzed: 307   Mean (95% Confidence Interval)   Unit of Measure: months  8.8        (7.8 to 9.8) Results 2:    Arm/Group Title: Lapatinib Plus Capecitabine   Arm/Group Description: lapatinib 1250 mg orally, once daily, continuously in 21 day cycles, and capecitabine 2000 mg/m^2 daily in 2 evenly divided doses, orally with water within 30 minutes after a meal, taken on days 1 to 14 of each 21 day cycle.   Overall Number of Participants Analyzed: 314   Mean (95% Confidence Interval)   Unit of Measure: months  6.6        (5.9 to 7.4)'}"
      ]
     },
     "execution_count": 111,
     "metadata": {},
     "output_type": "execute_result"
    }
   ],
   "source": [
    "gold[list(gold.keys())[-212]]"
   ]
  },
  {
   "cell_type": "markdown",
   "metadata": {},
   "source": [
    "## Validation Data"
   ]
  },
  {
   "cell_type": "code",
   "execution_count": 71,
   "metadata": {},
   "outputs": [],
   "source": [
    "with open('data\\\\raw\\\\dev.json') as f:\n",
    "  gold = json.load(f)"
   ]
  },
  {
   "cell_type": "code",
   "execution_count": 72,
   "metadata": {},
   "outputs": [],
   "source": [
    "for data in gold:\n",
    "  section = gold[data][\"Section_id\"]\n",
    "  primary_id = gold[data][\"Primary_id\"]\n",
    "  with open(f'data/raw/CT/{primary_id}.json') as f:\n",
    "    primary = json.load(f)\n",
    "\n",
    "  primary_premise = ' '.join(primary[section])\n",
    "  gold[data][\"primary_premise\"] = primary_premise\n",
    "\n",
    "  if gold[data][\"Type\"] == 'Comparison':\n",
    "    secondary_id = gold[data][\"Secondary_id\"]\n",
    "    with open(f'data/raw/CT/{secondary_id}.json') as f:\n",
    "      secondary = json.load(f)\n",
    "\n",
    "    secondary_premise = ' '.join(secondary[section])\n",
    "    gold[data][\"secondary_premise\"] = secondary_premise"
   ]
  },
  {
   "cell_type": "code",
   "execution_count": 73,
   "metadata": {},
   "outputs": [],
   "source": [
    "\n",
    "with open('data/original/cnli/dev.tsv', 'w', encoding='utf-8') as f:\n",
    "    f.write('sentence\\tlabel\\n')\n",
    "    for data in gold:\n",
    "        primary_premise = gold[data][\"primary_premise\"]\n",
    "        statement = gold[data][\"Statement\"]\n",
    "        section_id = gold[data][\"Section_id\"]\n",
    "        label = 0 if gold[data][\"Label\"]==\"Contradiction\" else 1\n",
    "        if gold[data][\"Type\"] == 'Comparison':\n",
    "            secondary_premise = gold[data][\"secondary_premise\"]\n",
    "            f.write(f'Type : {gold[data][\"Type\"]} [SEP] Section ID : {section_id} [SEP] Primary : {primary_premise} [SEP] Secondary : {secondary_premise} [SEP] Statement : {statement} \\t{label}\\n')\n",
    "            # print(f'Type : {gold[data][\"Type\"]} [SEP] Section ID : {section_id} [SEP] Primary : {primary_premise} [SEP] Secondary : {secondary_premise} [SEP] Statement : {statement} \\t{label}\\n'.count('\\t'))\n",
    "        else:\n",
    "            f.write(f'Type : {gold[data][\"Type\"]} [SEP] Section ID : {section_id} [SEP] Primary : {primary_premise} [SEP] Statement : {statement} \\t{label}\\n')\n",
    "            # print(f'Type : {gold[data][\"Type\"]} [SEP] Section ID : {section_id} [SEP] Primary : {primary_premise} [SEP] Statement : {statement} \\t{label}\\n'.count('\\t'))"
   ]
  },
  {
   "cell_type": "code",
   "execution_count": 74,
   "metadata": {},
   "outputs": [
    {
     "data": {
      "text/plain": [
       "200"
      ]
     },
     "execution_count": 74,
     "metadata": {},
     "output_type": "execute_result"
    }
   ],
   "source": [
    "len(gold)"
   ]
  },
  {
   "cell_type": "markdown",
   "metadata": {},
   "source": [
    "## Test Data"
   ]
  },
  {
   "cell_type": "code",
   "execution_count": 24,
   "metadata": {},
   "outputs": [],
   "source": [
    "with open('data\\\\raw\\\\test.json') as f:\n",
    "  gold = json.load(f)"
   ]
  },
  {
   "cell_type": "code",
   "execution_count": 25,
   "metadata": {},
   "outputs": [],
   "source": [
    "for data in gold:\n",
    "  section = gold[data][\"Section_id\"]\n",
    "  primary_id = gold[data][\"Primary_id\"]\n",
    "  with open(f'data/raw/CT/{primary_id}.json') as f:\n",
    "    primary = json.load(f)\n",
    "\n",
    "  primary_premise = ' '.join(primary[section])\n",
    "  gold[data][\"primary_premise\"] = primary_premise\n",
    "\n",
    "  if gold[data][\"Type\"] == 'Comparison':\n",
    "    secondary_id = gold[data][\"Secondary_id\"]\n",
    "    with open(f'data/raw/CT/{secondary_id}.json') as f:\n",
    "      secondary = json.load(f)\n",
    "\n",
    "    secondary_premise = ' '.join(secondary[section])\n",
    "    gold[data][\"secondary_premise\"] = secondary_premise"
   ]
  },
  {
   "cell_type": "code",
   "execution_count": 31,
   "metadata": {},
   "outputs": [],
   "source": [
    "with open('data/original/cnli/test.tsv', 'w', encoding='utf-8') as f:\n",
    "    f.write('sentence\\tlabel\\n')\n",
    "    for data in gold:\n",
    "        primary_premise = gold[data][\"primary_premise\"]\n",
    "        statement = gold[data][\"Statement\"]\n",
    "        section_id = gold[data][\"Section_id\"]\n",
    "        label = 0 if gold[data][\"Label\"]==\"Contradiction\" else 1\n",
    "        if gold[data][\"Type\"] == 'Comparison':\n",
    "            secondary_premise = gold[data][\"secondary_premise\"]\n",
    "            f.write(f'Type : {gold[data][\"Type\"]} [SEP] Section ID : {section_id} [SEP] Primary : {primary_premise} [SEP] Secondary : {secondary_premise} [SEP] Statement : {statement} \\t{label}\\n')\n",
    "            # print(f'Type : {gold[data][\"Type\"]} [SEP] Section ID : {section_id} [SEP] Primary : {primary_premise} [SEP] Secondary : {secondary_premise} [SEP] Statement : {statement} \\t{label}\\n'.count('\\t'))\n",
    "        else:\n",
    "            f.write(f'Type : {gold[data][\"Type\"]} [SEP] Section ID : {section_id} [SEP] Primary : {primary_premise} [SEP] Statement : {statement} \\t{label}\\n')\n",
    "            # print(f'Type : {gold[data][\"Type\"]} [SEP] Section ID : {section_id} [SEP] Primary : {primary_premise} [SEP] Statement : {statement} \\t{label}\\n'.count('\\t'))"
   ]
  },
  {
   "cell_type": "code",
   "execution_count": 42,
   "metadata": {},
   "outputs": [],
   "source": [
    "tst_lst = []\n",
    "for data in gold:\n",
    "    # if gold[data][\"Label\"] == 'Contradiction':\n",
    "    #     continue\n",
    "    primary_premise = gold[data][\"primary_premise\"]\n",
    "    # statement = gold[data][\"Statement\"]\n",
    "    secondary_premise = gold[data][\"secondary_premise\"] if gold[data][\"Type\"] == 'Comparison' else \"No Secondary Premise.\"\n",
    "    tst_lst.append({'primary_premise': primary_premise, 'secondary_premise': secondary_premise})\n",
    "\n",
    "# create a json file from the examples_dict dictionary\n",
    "with open('data/original/cnli/test_list.json', 'w') as outfile:\n",
    "    json.dump(tst_lst, outfile)"
   ]
  }
 ],
 "metadata": {
  "kernelspec": {
   "display_name": "lm-prompt-turbo",
   "language": "python",
   "name": "python3"
  },
  "language_info": {
   "codemirror_mode": {
    "name": "ipython",
    "version": 3
   },
   "file_extension": ".py",
   "mimetype": "text/x-python",
   "name": "python",
   "nbconvert_exporter": "python",
   "pygments_lexer": "ipython3",
   "version": "3.8.18"
  }
 },
 "nbformat": 4,
 "nbformat_minor": 2
}
